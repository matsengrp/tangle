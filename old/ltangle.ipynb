{
 "metadata": {
  "name": "",
  "signature": "sha256:2a3bafd108310ed91767608a0f2661b3ce06f7995b2ee1d45cd8345c78471a9b"
 },
 "nbformat": 3,
 "nbformat_minor": 0,
 "worksheets": [
  {
   "cells": [
    {
     "cell_type": "code",
     "collapsed": false,
     "input": [
      "from sage.all import *\n",
      "load(\"tangle-fun.py\")\n",
      "\n",
      "xfS2 = SymmetricGroupSquared(3)\n",
      "xfS = xfS2.fS\n",
      "xmu = xfS((1,3))\n",
      "xA1 = xfS.subgroup([(1,2)])\n",
      "xA2 = xfS.subgroup([(1,2)])\n",
      "def xestr(ltangle):\n",
      "     return xfS2.estr(representative(ltangle))\n",
      "\n",
      "print ltangle(xfS2, xA1, xA2, xmu)\n",
      "    \n",
      "for r in as_set(ltangle(xfS2, xA1, xA2, xmu)):\n",
      "    print xfS2.estr(r)\n",
      "\n",
      "print xfS2.estr(xfS2.ie1((1,3)))\n",
      "xfS2.pr2(xfS2.ie2((1,3)))"
     ],
     "language": "python",
     "metadata": {},
     "outputs": [
      {
       "ename": "NameError",
       "evalue": "name 'ltangle' is not defined",
       "output_type": "pyerr",
       "traceback": [
        "\u001b[1;31m---------------------------------------------------------------------------\u001b[0m\n\u001b[1;31mNameError\u001b[0m                                 Traceback (most recent call last)",
        "\u001b[1;32m<ipython-input-2-fd60d1e73767>\u001b[0m in \u001b[0;36m<module>\u001b[1;34m()\u001b[0m\n\u001b[0;32m     10\u001b[0m      \u001b[1;32mreturn\u001b[0m \u001b[0mxfS2\u001b[0m\u001b[1;33m.\u001b[0m\u001b[0mestr\u001b[0m\u001b[1;33m(\u001b[0m\u001b[0mrepresentative\u001b[0m\u001b[1;33m(\u001b[0m\u001b[0mltangle\u001b[0m\u001b[1;33m)\u001b[0m\u001b[1;33m)\u001b[0m\u001b[1;33m\u001b[0m\u001b[0m\n\u001b[0;32m     11\u001b[0m \u001b[1;33m\u001b[0m\u001b[0m\n\u001b[1;32m---> 12\u001b[1;33m \u001b[1;32mprint\u001b[0m \u001b[0mltangle\u001b[0m\u001b[1;33m(\u001b[0m\u001b[0mxfS2\u001b[0m\u001b[1;33m,\u001b[0m \u001b[0mxA1\u001b[0m\u001b[1;33m,\u001b[0m \u001b[0mxA2\u001b[0m\u001b[1;33m,\u001b[0m \u001b[0mxmu\u001b[0m\u001b[1;33m)\u001b[0m\u001b[1;33m\u001b[0m\u001b[0m\n\u001b[0m\u001b[0;32m     13\u001b[0m \u001b[1;33m\u001b[0m\u001b[0m\n\u001b[0;32m     14\u001b[0m \u001b[1;32mfor\u001b[0m \u001b[0mr\u001b[0m \u001b[1;32min\u001b[0m \u001b[0mas_set\u001b[0m\u001b[1;33m(\u001b[0m\u001b[0mltangle\u001b[0m\u001b[1;33m(\u001b[0m\u001b[0mxfS2\u001b[0m\u001b[1;33m,\u001b[0m \u001b[0mxA1\u001b[0m\u001b[1;33m,\u001b[0m \u001b[0mxA2\u001b[0m\u001b[1;33m,\u001b[0m \u001b[0mxmu\u001b[0m\u001b[1;33m)\u001b[0m\u001b[1;33m)\u001b[0m\u001b[1;33m:\u001b[0m\u001b[1;33m\u001b[0m\u001b[0m\n",
        "\u001b[1;31mNameError\u001b[0m: name 'ltangle' is not defined"
       ]
      }
     ],
     "prompt_number": 2
    },
    {
     "cell_type": "code",
     "collapsed": false,
     "input": [
      "from sage.all import *\n",
      "load(\"tangle-fun.py\")\n",
      "\n",
      "g = SymmetricGroup(4)\n",
      "my_wreath(g,SymmetricGroup(2))"
     ],
     "language": "python",
     "metadata": {},
     "outputs": [
      {
       "metadata": {},
       "output_type": "pyout",
       "prompt_number": 4,
       "text": [
        "(Permutation Group with generators [(5,6), (5,6,7,8), (1,2), (1,2,3,4), (1,5)(2,6)(3,7)(4,8)],\n",
        " Permutation group morphism:\n",
        "   From: Symmetric group of order 4! as a permutation group\n",
        "   To:   Permutation Group with generators [(5,6), (5,6,7,8), (1,2), (1,2,3,4), (1,5)(2,6)(3,7)(4,8)]\n",
        "   Defn: Embedding( Group( [ (1,2,3,4), (1,2), (5,6,7,8), (5,6), (1,5)(2,6)(3,7)(4,8)  ] ), 1 ),\n",
        " Permutation group morphism:\n",
        "   From: Symmetric group of order 2! as a permutation group\n",
        "   To:   Permutation Group with generators [(5,6), (5,6,7,8), (1,2), (1,2,3,4), (1,5)(2,6)(3,7)(4,8)]\n",
        "   Defn: Embedding( Group( [ (1,2,3,4), (1,2), (5,6,7,8), (5,6), (1,5)(2,6)(3,7)(4,8)  ] ), 2 ))"
       ]
      }
     ],
     "prompt_number": 4
    },
    {
     "cell_type": "code",
     "collapsed": false,
     "input": [
      "for lt in ltangles(xfS2, xA1, xA2):\n",
      "    print xfS2.estr(representative(lt))\n",
      "    print xfS2.mu(representative(lt))"
     ],
     "language": "python",
     "metadata": {},
     "outputs": [
      {
       "output_type": "stream",
       "stream": "stdout",
       "text": [
        "123\t123\n",
        "()\n",
        "()\n",
        "()\n",
        "123\t132\n",
        "()\n",
        "(2,3)\n",
        "(2,3)\n",
        "123\t231\n",
        "()\n",
        "(1,2,3)\n",
        "(1,2,3)\n",
        "312\t123"
       ]
      },
      {
       "output_type": "stream",
       "stream": "stdout",
       "text": [
        "\n",
        "(1,3,2)\n",
        "()\n",
        "(1,2,3)\n",
        "312\t132\n",
        "(1,3,2)\n",
        "(2,3)\n",
        "(1,3)\n",
        "312\t231\n",
        "(1,3,2)\n",
        "(1,2,3)\n",
        "(1,3,2)\n",
        "321\t123\n",
        "(1,3)"
       ]
      },
      {
       "output_type": "stream",
       "stream": "stdout",
       "text": [
        "\n",
        "()\n",
        "(1,3)\n",
        "321\t132\n",
        "(1,3)\n",
        "(2,3)\n",
        "(1,2,3)\n",
        "321\t231\n",
        "(1,3)\n",
        "(1,2,3)\n",
        "(2,3)\n"
       ]
      }
     ],
     "prompt_number": 75
    },
    {
     "cell_type": "code",
     "collapsed": false,
     "input": [],
     "language": "python",
     "metadata": {},
     "outputs": []
    }
   ],
   "metadata": {}
  }
 ]
}