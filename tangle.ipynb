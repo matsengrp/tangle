{
 "metadata": {
  "name": "",
  "signature": "sha256:3d7b35dd8036d29706ee187e7fe84a9ad33d2616c12a94f7254bd541b8393c5f"
 },
 "nbformat": 3,
 "nbformat_minor": 0,
 "worksheets": [
  {
   "cells": [
    {
     "cell_type": "code",
     "collapsed": false,
     "input": [
      "from sage.all import *\n",
      "load(\"curvature/tree-fun.py\")\n",
      "\n",
      "ts = indexed_tree_list(6)\n",
      "t4 = ts[4]"
     ],
     "language": "python",
     "metadata": {},
     "outputs": [],
     "prompt_number": 2
    },
    {
     "cell_type": "code",
     "collapsed": false,
     "input": [
      "S4 = SymmetricGroup(4)\n",
      "(s4, sigma4tilde) = equivalence_classes(rooted_is_isomorphic, t4)\n",
      "sigma4 = list(S4(list(d[i] for i in range(1,5))) for d in sigma4tilde)\n",
      "print s4\n",
      "#print list(sigma4)\n",
      "tangle4 = set()\n",
      "for i in range(len(s4)):\n",
      "    for j in range(i+1,len(s4)):\n",
      "        tangle4.add((s4[i],s4[j],sigma4[j].inverse() * sigma4[i])) # haven't added in the tree automorphisms yet\n",
      "tangle4"
     ],
     "language": "python",
     "metadata": {},
     "outputs": [
      {
       "output_type": "stream",
       "stream": "stdout",
       "text": [
        "[0, 0, 0, 3, 0, 0, 0, 3, 0, 0, 0, 3, 0, 0, 0]\n"
       ]
      },
      {
       "metadata": {},
       "output_type": "pyout",
       "prompt_number": 16,
       "text": [
        "{(0, 0, (3,4)),\n",
        " (0, 0, (2,3)),\n",
        " (0, 0, (2,3,4)),\n",
        " (0, 0, (2,4,3)),\n",
        " (0, 0, (2,4)),\n",
        " (0, 0, (1,2)),\n",
        " (0, 0, (1,2)(3,4)),\n",
        " (0, 0, (1,2,3)),\n",
        " (0, 0, (1,2,3,4)),\n",
        " (0, 0, (1,2,4,3)),\n",
        " (0, 0, (1,2,4)),\n",
        " (0, 0, (1,3,2)),\n",
        " (0, 0, (1,3,4,2)),\n",
        " (0, 0, (1,3)),\n",
        " (0, 0, (1,3,4)),\n",
        " (0, 0, (1,3)(2,4)),\n",
        " (0, 0, (1,4,3,2)),\n",
        " (0, 0, (1,4,2)),\n",
        " (0, 0, (1,4,3)),\n",
        " (0, 0, (1,4)),\n",
        " (0, 0, (1,4,2,3)),\n",
        " (0, 3, ()),\n",
        " (0, 3, (3,4)),\n",
        " (0, 3, (2,3)),\n",
        " (0, 3, (2,3,4)),\n",
        " (0, 3, (2,4,3)),\n",
        " (0, 3, (1,2)),\n",
        " (0, 3, (1,2)(3,4)),\n",
        " (0, 3, (1,2,4,3)),\n",
        " (0, 3, (1,3,2)),\n",
        " (0, 3, (1,3,4,2)),\n",
        " (0, 3, (1,4,3,2)),\n",
        " (0, 3, (1,4,2)),\n",
        " (3, 0, (3,4)),\n",
        " (3, 0, (2,3)),\n",
        " (3, 0, (2,4,3)),\n",
        " (3, 0, (2,4)),\n",
        " (3, 0, (1,2)),\n",
        " (3, 0, (1,2,4,3)),\n",
        " (3, 0, (1,3,2)),\n",
        " (3, 0, (1,3)(2,4)),\n",
        " (3, 0, (1,4,3,2)),\n",
        " (3, 0, (1,4,2)),\n",
        " (3, 0, (1,4,3)),\n",
        " (3, 0, (1,4)),\n",
        " (3, 0, (1,4,2,3)),\n",
        " (3, 3, (2,3)),\n",
        " (3, 3, (1,2)),\n",
        " (3, 3, (1,3,2))}"
       ]
      }
     ],
     "prompt_number": 16
    },
    {
     "cell_type": "code",
     "collapsed": false,
     "input": [
      "from sage.combinat.enumeration_mod_permgroup import orbit, lex_cmp\n",
      "G = PermutationGroup([[(1,2,3,4)]])\n",
      "sgs = G.strong_generating_system()\n",
      "from sage.structure.list_clone_demo import IncreasingIntArrays\n",
      "IA = IncreasingIntArrays()\n",
      "sorted(orbit(sgs, IA([1,2,3,4])), cmp=lex_cmp)\n",
      "\n"
     ],
     "language": "python",
     "metadata": {},
     "outputs": [
      {
       "metadata": {},
       "output_type": "pyout",
       "prompt_number": 17,
       "text": [
        "[[1, 2, 3, 4], [2, 3, 4, 1], [3, 4, 1, 2], [4, 1, 2, 3]]"
       ]
      }
     ],
     "prompt_number": 17
    },
    {
     "cell_type": "code",
     "collapsed": false,
     "input": [
      "t = t4[1]\n",
      "show(plot(t))\n",
      "G = t.automorphism_group(partition=[[0],range(1,8)])\n",
      "print G\n",
      "sgs = G.strong_generating_system()\n",
      "print(sgs)\n",
      "from sage.structure.list_clone_demo import IncreasingIntArrays\n",
      "IA = IncreasingIntArrays()\n",
      "sorted(orbit(sgs, IA([1,2,3,4])), cmp=lex_cmp)"
     ],
     "language": "python",
     "metadata": {},
     "outputs": [
      {
       "output_type": "stream",
       "stream": "stdout",
       "text": [
        "Permutation Group with generators [(1,4)]\n",
        "[[()], [(), (1,4)], [()], [()], [()], [()], [()], [()]]"
       ]
      },
      {
       "output_type": "stream",
       "stream": "stdout",
       "text": [
        "\n"
       ]
      },
      {
       "ename": "AssertionError",
       "evalue": "() and [1, 2, 3, 4] should have the same length",
       "output_type": "pyerr",
       "traceback": [
        "\u001b[1;31m---------------------------------------------------------------------------\u001b[0m\n\u001b[1;31mAssertionError\u001b[0m                            Traceback (most recent call last)",
        "\u001b[1;32m<ipython-input-32-fabdcd7471a1>\u001b[0m in \u001b[0;36m<module>\u001b[1;34m()\u001b[0m\n\u001b[0;32m      7\u001b[0m \u001b[1;32mfrom\u001b[0m \u001b[0msage\u001b[0m\u001b[1;33m.\u001b[0m\u001b[0mstructure\u001b[0m\u001b[1;33m.\u001b[0m\u001b[0mlist_clone_demo\u001b[0m \u001b[1;32mimport\u001b[0m \u001b[0mIncreasingIntArrays\u001b[0m\u001b[1;33m\u001b[0m\u001b[0m\n\u001b[0;32m      8\u001b[0m \u001b[0mIA\u001b[0m \u001b[1;33m=\u001b[0m \u001b[0mIncreasingIntArrays\u001b[0m\u001b[1;33m(\u001b[0m\u001b[1;33m)\u001b[0m\u001b[1;33m\u001b[0m\u001b[0m\n\u001b[1;32m----> 9\u001b[1;33m \u001b[0msorted\u001b[0m\u001b[1;33m(\u001b[0m\u001b[0morbit\u001b[0m\u001b[1;33m(\u001b[0m\u001b[0msgs\u001b[0m\u001b[1;33m,\u001b[0m \u001b[0mIA\u001b[0m\u001b[1;33m(\u001b[0m\u001b[1;33m[\u001b[0m\u001b[1;36m1\u001b[0m\u001b[1;33m,\u001b[0m\u001b[1;36m2\u001b[0m\u001b[1;33m,\u001b[0m\u001b[1;36m3\u001b[0m\u001b[1;33m,\u001b[0m\u001b[1;36m4\u001b[0m\u001b[1;33m]\u001b[0m\u001b[1;33m)\u001b[0m\u001b[1;33m)\u001b[0m\u001b[1;33m,\u001b[0m \u001b[0mcmp\u001b[0m\u001b[1;33m=\u001b[0m\u001b[0mlex_cmp\u001b[0m\u001b[1;33m)\u001b[0m\u001b[1;33m\u001b[0m\u001b[0m\n\u001b[0m",
        "\u001b[1;32m/usr/lib/sagemath/local/lib/python2.7/site-packages/sage/combinat/enumeration_mod_permgroup.so\u001b[0m in \u001b[0;36msage.combinat.enumeration_mod_permgroup.orbit (build/cythonized/sage/combinat/enumeration_mod_permgroup.c:4348)\u001b[1;34m()\u001b[0m\n",
        "\u001b[1;32m/usr/lib/sagemath/local/lib/python2.7/site-packages/sage/combinat/enumeration_mod_permgroup.so\u001b[0m in \u001b[0;36msage.combinat.enumeration_mod_permgroup.orbit (build/cythonized/sage/combinat/enumeration_mod_permgroup.c:4203)\u001b[1;34m()\u001b[0m\n",
        "\u001b[1;32m/usr/lib/sagemath/local/lib/python2.7/site-packages/sage/groups/perm_gps/permgroup_element.so\u001b[0m in \u001b[0;36msage.groups.perm_gps.permgroup_element.PermutationGroupElement._act_on_array_on_position (build/cythonized/sage/groups/perm_gps/permgroup_element.c:6979)\u001b[1;34m()\u001b[0m\n",
        "\u001b[1;31mAssertionError\u001b[0m: () and [1, 2, 3, 4] should have the same length"
       ]
      }
     ],
     "prompt_number": 32
    },
    {
     "cell_type": "code",
     "collapsed": false,
     "input": [
      "from sage.combinat.enumeration_mod_permgroup import orbit, lex_cmp\n",
      "G = SymmetricGroup(4)\n",
      "sgs = G.strong_generating_system()\n",
      "from sage.structure.list_clone_demo import IncreasingIntArrays\n",
      "IA = IncreasingIntArrays()\n",
      "sorted(orbit(sgs, IA([1,2,3,4])), cmp=lex_cmp)"
     ],
     "language": "python",
     "metadata": {},
     "outputs": [
      {
       "metadata": {},
       "output_type": "pyout",
       "prompt_number": 18,
       "text": [
        "[[1, 2, 3, 4],\n",
        " [1, 2, 4, 3],\n",
        " [1, 3, 2, 4],\n",
        " [1, 3, 4, 2],\n",
        " [1, 4, 2, 3],\n",
        " [1, 4, 3, 2],\n",
        " [2, 1, 3, 4],\n",
        " [2, 1, 4, 3],\n",
        " [2, 3, 1, 4],\n",
        " [2, 3, 4, 1],\n",
        " [2, 4, 1, 3],\n",
        " [2, 4, 3, 1],\n",
        " [3, 1, 2, 4],\n",
        " [3, 1, 4, 2],\n",
        " [3, 2, 1, 4],\n",
        " [3, 2, 4, 1],\n",
        " [3, 4, 1, 2],\n",
        " [3, 4, 2, 1],\n",
        " [4, 1, 2, 3],\n",
        " [4, 1, 3, 2],\n",
        " [4, 2, 1, 3],\n",
        " [4, 2, 3, 1],\n",
        " [4, 3, 1, 2],\n",
        " [4, 3, 2, 1]]"
       ]
      }
     ],
     "prompt_number": 18
    },
    {
     "cell_type": "code",
     "collapsed": false,
     "input": [
      "H = G.subgroup([G(\"(3,4)\")])\n",
      "G.is_normal(H)\n",
      "H.list()"
     ],
     "language": "python",
     "metadata": {},
     "outputs": [
      {
       "ename": "TypeError",
       "evalue": "Symmetric group of order 4! as a permutation group must be a subgroup of Subgroup of (Symmetric group of order 4! as a permutation group) generated by [(3,4)]",
       "output_type": "pyerr",
       "traceback": [
        "\u001b[1;31m---------------------------------------------------------------------------\u001b[0m\n\u001b[1;31mTypeError\u001b[0m                                 Traceback (most recent call last)",
        "\u001b[1;32m<ipython-input-24-341df705721b>\u001b[0m in \u001b[0;36m<module>\u001b[1;34m()\u001b[0m\n\u001b[0;32m      1\u001b[0m \u001b[0mH\u001b[0m \u001b[1;33m=\u001b[0m \u001b[0mG\u001b[0m\u001b[1;33m.\u001b[0m\u001b[0msubgroup\u001b[0m\u001b[1;33m(\u001b[0m\u001b[1;33m[\u001b[0m\u001b[0mG\u001b[0m\u001b[1;33m(\u001b[0m\u001b[1;34m\"(3,4)\"\u001b[0m\u001b[1;33m)\u001b[0m\u001b[1;33m]\u001b[0m\u001b[1;33m)\u001b[0m\u001b[1;33m\u001b[0m\u001b[0m\n\u001b[1;32m----> 2\u001b[1;33m \u001b[0mG\u001b[0m\u001b[1;33m.\u001b[0m\u001b[0mis_normal\u001b[0m\u001b[1;33m(\u001b[0m\u001b[0mH\u001b[0m\u001b[1;33m)\u001b[0m\u001b[1;33m\u001b[0m\u001b[0m\n\u001b[0m\u001b[0;32m      3\u001b[0m \u001b[0mH\u001b[0m\u001b[1;33m.\u001b[0m\u001b[0mlist\u001b[0m\u001b[1;33m(\u001b[0m\u001b[1;33m)\u001b[0m\u001b[1;33m\u001b[0m\u001b[0m\n",
        "\u001b[1;32m/usr/lib/sagemath/local/lib/python2.7/site-packages/sage/groups/perm_gps/permgroup.pyc\u001b[0m in \u001b[0;36mis_normal\u001b[1;34m(self, other)\u001b[0m\n\u001b[0;32m   3444\u001b[0m         \"\"\"\n\u001b[0;32m   3445\u001b[0m         \u001b[1;32mif\u001b[0m \u001b[1;32mnot\u001b[0m\u001b[1;33m(\u001b[0m\u001b[0mself\u001b[0m\u001b[1;33m.\u001b[0m\u001b[0mis_subgroup\u001b[0m\u001b[1;33m(\u001b[0m\u001b[0mother\u001b[0m\u001b[1;33m)\u001b[0m\u001b[1;33m)\u001b[0m\u001b[1;33m:\u001b[0m\u001b[1;33m\u001b[0m\u001b[0m\n\u001b[1;32m-> 3446\u001b[1;33m             \u001b[1;32mraise\u001b[0m \u001b[0mTypeError\u001b[0m\u001b[1;33m(\u001b[0m\u001b[1;34m\"%s must be a subgroup of %s\"\u001b[0m\u001b[1;33m%\u001b[0m\u001b[1;33m(\u001b[0m\u001b[0mself\u001b[0m\u001b[1;33m,\u001b[0m \u001b[0mother\u001b[0m\u001b[1;33m)\u001b[0m\u001b[1;33m)\u001b[0m\u001b[1;33m\u001b[0m\u001b[0m\n\u001b[0m\u001b[0;32m   3447\u001b[0m         \u001b[1;32mreturn\u001b[0m \u001b[0mother\u001b[0m\u001b[1;33m.\u001b[0m\u001b[0m_gap_\u001b[0m\u001b[1;33m(\u001b[0m\u001b[1;33m)\u001b[0m\u001b[1;33m.\u001b[0m\u001b[0mIsNormal\u001b[0m\u001b[1;33m(\u001b[0m\u001b[0mself\u001b[0m\u001b[1;33m)\u001b[0m\u001b[1;33m.\u001b[0m\u001b[0mbool\u001b[0m\u001b[1;33m(\u001b[0m\u001b[1;33m)\u001b[0m\u001b[1;33m\u001b[0m\u001b[0m\n\u001b[0;32m   3448\u001b[0m \u001b[1;33m\u001b[0m\u001b[0m\n",
        "\u001b[1;31mTypeError\u001b[0m: Symmetric group of order 4! as a permutation group must be a subgroup of Subgroup of (Symmetric group of order 4! as a permutation group) generated by [(3,4)]"
       ]
      }
     ],
     "prompt_number": 24
    },
    {
     "cell_type": "code",
     "collapsed": false,
     "input": [
      "G = SymmetricGroup(4)\n",
      "r1 = G(\"(1,2) (3,4)\")\n",
      "r2 = G(\"(1,3) (2,4)\")\n",
      "r3 = G(\"(1,4) (2,3)\")\n",
      "H = G.subgroup([r1])\n",
      "H.is_normal(G)\n",
      "\n"
     ],
     "language": "python",
     "metadata": {},
     "outputs": [
      {
       "metadata": {},
       "output_type": "pyout",
       "prompt_number": 28,
       "text": [
        "False"
       ]
      }
     ],
     "prompt_number": 28
    },
    {
     "cell_type": "code",
     "collapsed": false,
     "input": [],
     "language": "python",
     "metadata": {},
     "outputs": []
    }
   ],
   "metadata": {}
  }
 ]
}