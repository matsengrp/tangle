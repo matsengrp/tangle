{
 "metadata": {
  "name": "",
  "signature": "sha256:7f4c8a70f030732e8036cdb303e40e5b87ed14a1b17edf299e6be942b5fe26bd"
 },
 "nbformat": 3,
 "nbformat_minor": 0,
 "worksheets": [
  {
   "cells": [
    {
     "cell_type": "code",
     "collapsed": false,
     "input": [
      "import csv\n",
      "from sage.all import *\n",
      "from itertools import product\n",
      "load(\"all-hail-sage/tree-fun.py\")\n",
      "load(\"all-hail-sage/nb-fun.py\")\n",
      "load(\"tangle-fun.py\")\n",
      "set_random_seed(0)  # Make tree outputs consistent among runs.\n",
      "\n",
      "def nb_show_tangle(tangle):\n",
      "    p = plot(graph_of_tangle(*tangle), \n",
      "                 color_by_label=True, \n",
      "                 vertex_labels=False)\n",
      "    nb_show(p)    \n",
      "\n",
      "\n",
      "gl = [None for i in range(7)]\n",
      "for i in range(4,6):\n",
      "    gl[i] = load_tangles(\"rooted-symmetric/tangle{}.sobj\".format(i))\n",
      "\n",
      "def show_tangles(tangles):\n",
      "    tangles.sort()\n",
      "    for tangle in tangles:\n",
      "        nb_show_tangle(tangle)\n",
      "        print_tangle(*tangle)\n",
      "        print \"\\n\\n\"\n",
      "\n",
      "def ricci_tangles(n):\n",
      "    tangles = gl[n]\n",
      "    def fake_QQ(str):\n",
      "        if str == \"-\":\n",
      "            return QQ(1000)\n",
      "        else:\n",
      "            return QQ(str)\n",
      "    with open('../results-rspr/ricci{}.mat'.format(n), 'rb') as f:\n",
      "        reader = csv.reader(f, delimiter='\\t')\n",
      "        results = list((row[2],row[3], row[4], int(row[5]), row[6]) for row in reader)\n",
      "        assert(len(tangles) == len(results))\n",
      "        sort_idx = range(len(results))\n",
      "        sort_idx.sort(key=lambda i: fake_QQ(results[i][4])) # Sort by curvature.\n",
      "        for i in sort_idx:\n",
      "            [t1_s, t2_s, coset, dist, ricci_s] = results[i]\n",
      "            our_newick_pair = \"\\t\".join([t1_s, t2_s])\n",
      "            tangle = tangles[i]\n",
      "            nb_show_tangle(tangle)\n",
      "            print \"ricci = {}, dist = {}\".format(ricci_s,dist)\n",
      "            print t1_s\n",
      "            print t2_s\n",
      "            print tangle[2]\n",
      "            \n",
      "            assert(our_newick_pair in to_newick_pairs(*tangle)) # Check that we are talking about the same tangle."
     ],
     "language": "python",
     "metadata": {},
     "outputs": [],
     "prompt_number": 1
    },
    {
     "cell_type": "code",
     "collapsed": false,
     "input": [],
     "language": "python",
     "metadata": {},
     "outputs": []
    }
   ],
   "metadata": {}
  }
 ]
}