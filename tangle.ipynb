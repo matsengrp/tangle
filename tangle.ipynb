{
 "cells": [
  {
   "cell_type": "code",
   "execution_count": null,
   "metadata": {
    "collapsed": false,
    "scrolled": false
   },
   "outputs": [],
   "source": [
    "import csv\n",
    "from sage.all import *\n",
    "from itertools import product\n",
    "import subprocess\n",
    "import re\n",
    "load(\"all-hail-sage/phylogeny.py\")\n",
    "load(\"all-hail-sage/nb-fun.py\")\n",
    "load(\"tangle-fun.py\")\n",
    "set_random_seed(0)  # Make tree outputs consistent among runs.\n",
    "\n",
    "def nb_show_tangle(tangle):\n",
    "    nb_show(plot(graph_of_tangle(*tangle), \n",
    "                 color_by_label=True, \n",
    "                 vertex_labels=False))\n",
    "\n",
    "def show_tangles(tangles):\n",
    "    tangles.sort()\n",
    "    for tangle in tangles:\n",
    "        nb_show_tangle(tangle)\n",
    "        print_tangle(*tangle)\n",
    "        print \"\\n\\n\"\n",
    "\n",
    "#show_tangles(load_tangles(\"rooted-symmetric/tangle4.sobj\"))"
   ]
  },
  {
   "cell_type": "code",
   "execution_count": null,
   "metadata": {
    "collapsed": false
   },
   "outputs": [],
   "source": [
    "tangles_extras = make_tangles_extras(6, rooted=False)\n",
    "tangles = [extra[0] for extra in tangles_extras]\n",
    "y = tangles[0]"
   ]
  },
  {
   "cell_type": "code",
   "execution_count": null,
   "metadata": {
    "collapsed": false,
    "scrolled": false
   },
   "outputs": [],
   "source": [
    "show_tangles(tangles)"
   ]
  },
  {
   "cell_type": "code",
   "execution_count": null,
   "metadata": {
    "collapsed": true
   },
   "outputs": [],
   "source": []
  }
 ],
 "metadata": {
  "kernelspec": {
   "display_name": "Python 2",
   "language": "python",
   "name": "python2"
  },
  "language_info": {
   "codemirror_mode": {
    "name": "ipython",
    "version": 2
   },
   "file_extension": ".py",
   "mimetype": "text/x-python",
   "name": "python",
   "nbconvert_exporter": "python",
   "pygments_lexer": "ipython2",
   "version": "2.7.8"
  }
 },
 "nbformat": 4,
 "nbformat_minor": 0
}
